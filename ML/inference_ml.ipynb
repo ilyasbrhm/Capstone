{
  "nbformat": 4,
  "nbformat_minor": 0,
  "metadata": {
    "colab": {
      "provenance": []
    },
    "kernelspec": {
      "name": "python3",
      "display_name": "Python 3"
    },
    "language_info": {
      "name": "python"
    }
  },
  "cells": [
    {
      "cell_type": "code",
      "execution_count": null,
      "metadata": {
        "id": "0qtQyh0lXfLx",
        "colab": {
          "base_uri": "https://localhost:8080/"
        },
        "outputId": "33af7c48-b7c6-40a6-e421-9179c0afc97c"
      },
      "outputs": [
        {
          "output_type": "stream",
          "name": "stdout",
          "text": [
            "Requirement already satisfied: pandas in /usr/local/lib/python3.11/dist-packages (2.2.2)\n",
            "Requirement already satisfied: scikit-learn in /usr/local/lib/python3.11/dist-packages (1.6.1)\n",
            "Requirement already satisfied: tensorflow in /usr/local/lib/python3.11/dist-packages (2.18.0)\n",
            "Requirement already satisfied: numpy>=1.23.2 in /usr/local/lib/python3.11/dist-packages (from pandas) (2.0.2)\n",
            "Requirement already satisfied: python-dateutil>=2.8.2 in /usr/local/lib/python3.11/dist-packages (from pandas) (2.9.0.post0)\n",
            "Requirement already satisfied: pytz>=2020.1 in /usr/local/lib/python3.11/dist-packages (from pandas) (2025.2)\n",
            "Requirement already satisfied: tzdata>=2022.7 in /usr/local/lib/python3.11/dist-packages (from pandas) (2025.2)\n",
            "Requirement already satisfied: scipy>=1.6.0 in /usr/local/lib/python3.11/dist-packages (from scikit-learn) (1.15.3)\n",
            "Requirement already satisfied: joblib>=1.2.0 in /usr/local/lib/python3.11/dist-packages (from scikit-learn) (1.5.0)\n",
            "Requirement already satisfied: threadpoolctl>=3.1.0 in /usr/local/lib/python3.11/dist-packages (from scikit-learn) (3.6.0)\n",
            "Requirement already satisfied: absl-py>=1.0.0 in /usr/local/lib/python3.11/dist-packages (from tensorflow) (1.4.0)\n",
            "Requirement already satisfied: astunparse>=1.6.0 in /usr/local/lib/python3.11/dist-packages (from tensorflow) (1.6.3)\n",
            "Requirement already satisfied: flatbuffers>=24.3.25 in /usr/local/lib/python3.11/dist-packages (from tensorflow) (25.2.10)\n",
            "Requirement already satisfied: gast!=0.5.0,!=0.5.1,!=0.5.2,>=0.2.1 in /usr/local/lib/python3.11/dist-packages (from tensorflow) (0.6.0)\n",
            "Requirement already satisfied: google-pasta>=0.1.1 in /usr/local/lib/python3.11/dist-packages (from tensorflow) (0.2.0)\n",
            "Requirement already satisfied: libclang>=13.0.0 in /usr/local/lib/python3.11/dist-packages (from tensorflow) (18.1.1)\n",
            "Requirement already satisfied: opt-einsum>=2.3.2 in /usr/local/lib/python3.11/dist-packages (from tensorflow) (3.4.0)\n",
            "Requirement already satisfied: packaging in /usr/local/lib/python3.11/dist-packages (from tensorflow) (24.2)\n",
            "Requirement already satisfied: protobuf!=4.21.0,!=4.21.1,!=4.21.2,!=4.21.3,!=4.21.4,!=4.21.5,<6.0.0dev,>=3.20.3 in /usr/local/lib/python3.11/dist-packages (from tensorflow) (5.29.4)\n",
            "Requirement already satisfied: requests<3,>=2.21.0 in /usr/local/lib/python3.11/dist-packages (from tensorflow) (2.32.3)\n",
            "Requirement already satisfied: setuptools in /usr/local/lib/python3.11/dist-packages (from tensorflow) (75.2.0)\n",
            "Requirement already satisfied: six>=1.12.0 in /usr/local/lib/python3.11/dist-packages (from tensorflow) (1.17.0)\n",
            "Requirement already satisfied: termcolor>=1.1.0 in /usr/local/lib/python3.11/dist-packages (from tensorflow) (3.1.0)\n",
            "Requirement already satisfied: typing-extensions>=3.6.6 in /usr/local/lib/python3.11/dist-packages (from tensorflow) (4.13.2)\n",
            "Requirement already satisfied: wrapt>=1.11.0 in /usr/local/lib/python3.11/dist-packages (from tensorflow) (1.17.2)\n",
            "Requirement already satisfied: grpcio<2.0,>=1.24.3 in /usr/local/lib/python3.11/dist-packages (from tensorflow) (1.71.0)\n",
            "Requirement already satisfied: tensorboard<2.19,>=2.18 in /usr/local/lib/python3.11/dist-packages (from tensorflow) (2.18.0)\n",
            "Requirement already satisfied: keras>=3.5.0 in /usr/local/lib/python3.11/dist-packages (from tensorflow) (3.8.0)\n",
            "Requirement already satisfied: h5py>=3.11.0 in /usr/local/lib/python3.11/dist-packages (from tensorflow) (3.13.0)\n",
            "Requirement already satisfied: ml-dtypes<0.5.0,>=0.4.0 in /usr/local/lib/python3.11/dist-packages (from tensorflow) (0.4.1)\n",
            "Requirement already satisfied: tensorflow-io-gcs-filesystem>=0.23.1 in /usr/local/lib/python3.11/dist-packages (from tensorflow) (0.37.1)\n",
            "Requirement already satisfied: wheel<1.0,>=0.23.0 in /usr/local/lib/python3.11/dist-packages (from astunparse>=1.6.0->tensorflow) (0.45.1)\n",
            "Requirement already satisfied: rich in /usr/local/lib/python3.11/dist-packages (from keras>=3.5.0->tensorflow) (13.9.4)\n",
            "Requirement already satisfied: namex in /usr/local/lib/python3.11/dist-packages (from keras>=3.5.0->tensorflow) (0.0.9)\n",
            "Requirement already satisfied: optree in /usr/local/lib/python3.11/dist-packages (from keras>=3.5.0->tensorflow) (0.15.0)\n",
            "Requirement already satisfied: charset-normalizer<4,>=2 in /usr/local/lib/python3.11/dist-packages (from requests<3,>=2.21.0->tensorflow) (3.4.2)\n",
            "Requirement already satisfied: idna<4,>=2.5 in /usr/local/lib/python3.11/dist-packages (from requests<3,>=2.21.0->tensorflow) (3.10)\n",
            "Requirement already satisfied: urllib3<3,>=1.21.1 in /usr/local/lib/python3.11/dist-packages (from requests<3,>=2.21.0->tensorflow) (2.4.0)\n",
            "Requirement already satisfied: certifi>=2017.4.17 in /usr/local/lib/python3.11/dist-packages (from requests<3,>=2.21.0->tensorflow) (2025.4.26)\n",
            "Requirement already satisfied: markdown>=2.6.8 in /usr/local/lib/python3.11/dist-packages (from tensorboard<2.19,>=2.18->tensorflow) (3.8)\n",
            "Requirement already satisfied: tensorboard-data-server<0.8.0,>=0.7.0 in /usr/local/lib/python3.11/dist-packages (from tensorboard<2.19,>=2.18->tensorflow) (0.7.2)\n",
            "Requirement already satisfied: werkzeug>=1.0.1 in /usr/local/lib/python3.11/dist-packages (from tensorboard<2.19,>=2.18->tensorflow) (3.1.3)\n",
            "Requirement already satisfied: MarkupSafe>=2.1.1 in /usr/local/lib/python3.11/dist-packages (from werkzeug>=1.0.1->tensorboard<2.19,>=2.18->tensorflow) (3.0.2)\n",
            "Requirement already satisfied: markdown-it-py>=2.2.0 in /usr/local/lib/python3.11/dist-packages (from rich->keras>=3.5.0->tensorflow) (3.0.0)\n",
            "Requirement already satisfied: pygments<3.0.0,>=2.13.0 in /usr/local/lib/python3.11/dist-packages (from rich->keras>=3.5.0->tensorflow) (2.19.1)\n",
            "Requirement already satisfied: mdurl~=0.1 in /usr/local/lib/python3.11/dist-packages (from markdown-it-py>=2.2.0->rich->keras>=3.5.0->tensorflow) (0.1.2)\n"
          ]
        }
      ],
      "source": [
        "# 1. Install dan import library\n",
        "!pip install pandas scikit-learn tensorflow"
      ]
    },
    {
      "cell_type": "code",
      "source": [
        "import numpy as np\n",
        "import pandas as pd\n",
        "import pickle\n",
        "import tensorflow as tf\n",
        "from sklearn.preprocessing import LabelEncoder, StandardScaler, MultiLabelBinarizer\n",
        "from tensorflow.keras.models import load_model\n",
        "\n",
        "\n",
        "# 2. Load model dan encoder\n",
        "model = load_model(\"sistem_rekomendasi_model.h5\")\n",
        "\n",
        "with open(\"scaler.pkl\", \"rb\") as f:\n",
        "    scaler = pickle.load(f)\n",
        "\n",
        "with open(\"mlb.pkl\", \"rb\") as f:\n",
        "    mlb = pickle.load(f)\n",
        "\n",
        "with open(\"label_encoder.pkl\", \"rb\") as f:\n",
        "    le = pickle.load(f)\n",
        "\n",
        "# 3. Load dataset lokal yang sudah punya kolom 'mood'\n",
        "df = pd.read_csv(\"dataset_fix.csv\")\n",
        "df.head()\n",
        "\n",
        "# Proses ulang genres_list dan genre one-hot encoding (sesuai training)\n",
        "df['genres_list'] = df['genres'].apply(lambda x: x.strip(\"[]\").replace(\"'\", \"\").split(\", \"))\n",
        "genre_df = pd.DataFrame(mlb.transform(df['genres_list']), columns=mlb.classes_)\n",
        "\n",
        "# Gabungkan fitur numerik dan genre one-hot\n",
        "features = pd.concat([\n",
        "    df[['release_year', 'popularity', 'rating']].reset_index(drop=True),\n",
        "    genre_df.reset_index(drop=True)\n",
        "], axis=1)\n",
        "\n",
        "# Normalisasi\n",
        "features_scaled = scaler.transform(features)\n",
        "\n",
        "# 4. Fungsi rekomendasi berdasarkan input mood\n",
        "def recommend_movies_by_mood(mood_input, top_k=5):\n",
        "    mood_input = mood_input.capitalize()\n",
        "\n",
        "    if mood_input not in le.classes_:\n",
        "        return f\"Mood '{mood_input}' tidak dikenali. Pilih salah satu dari: {list(le.classes_)}\"\n",
        "\n",
        "    # Cari indeks film yang sesuai dengan mood\n",
        "    matching_indices = df[df['mood'] == mood_input].index\n",
        "\n",
        "    if matching_indices.empty:\n",
        "        return f\"Tidak ada film yang cocok untuk mood '{mood_input}'.\"\n",
        "\n",
        "    # Ambil subset fitur dan prediksi\n",
        "    X_subset = features_scaled[matching_indices]\n",
        "    preds = model.predict(X_subset)\n",
        "\n",
        "    # Skor berdasarkan probabilitas kelas yang sesuai dengan input mood\n",
        "    label_target = le.transform([mood_input])[0]\n",
        "    match_score = preds[:, label_target]\n",
        "\n",
        "    # Ambil top k berdasarkan skor tertinggi\n",
        "    top_indices = match_score.argsort()[::-1][:top_k]\n",
        "    result_indices = matching_indices[top_indices]\n",
        "\n",
        "    return df.loc[result_indices][['title', 'genres', 'release_year', 'popularity', 'rating']]\n",
        "\n",
        "# 5. Input dari user\n",
        "user_mood = input(\"Masukkan mood Anda (contoh: 'Cheerful', 'Emotional', 'Energetic', 'Imaginative', 'Insightful', 'Romantic', 'Thrilling', 'Neutral' ): \")\n",
        "top_k = input(\"Berapa banyak film yang ingin direkomendasikan? (Max = 5): \")\n",
        "\n",
        "# Validasi top_k\n",
        "try:\n",
        "    top_k = int(top_k)\n",
        "except:\n",
        "    top_k = 5\n",
        "\n",
        "# Tampilkan rekomendasi\n",
        "rekomendasi = recommend_movies_by_mood(user_mood, top_k=top_k)\n",
        "\n",
        "print(\"\\n🎬 Rekomendasi Film:\")\n",
        "if isinstance(rekomendasi, pd.DataFrame) and not rekomendasi.empty:\n",
        "    print(rekomendasi.to_string(index=False))\n",
        "else:\n",
        "    print(\"Tidak ada film yang cocok untuk filter yang dipilih.\")"
      ],
      "metadata": {
        "colab": {
          "base_uri": "https://localhost:8080/"
        },
        "id": "W9fklKQSbWoh",
        "outputId": "9729a3a7-b39f-4987-8605-21aa2d197e2c"
      },
      "execution_count": null,
      "outputs": [
        {
          "output_type": "stream",
          "name": "stderr",
          "text": [
            "WARNING:absl:Compiled the loaded model, but the compiled metrics have yet to be built. `model.compile_metrics` will be empty until you train or evaluate the model.\n",
            "/usr/local/lib/python3.11/dist-packages/sklearn/preprocessing/_label.py:909: UserWarning: unknown class(es) [''] will be ignored\n",
            "  warnings.warn(\n"
          ]
        },
        {
          "output_type": "stream",
          "name": "stdout",
          "text": [
            "Masukkan mood Anda (contoh: 'Cheerful', 'Emotional', 'Energetic', 'Imaginative', 'Insightful', 'Romantic', 'Thrilling', 'Neutral' ): Romantic\n",
            "Berapa banyak film yang ingin direkomendasikan? (Max = 5): 4\n",
            "\u001b[1m69/69\u001b[0m \u001b[32m━━━━━━━━━━━━━━━━━━━━\u001b[0m\u001b[37m\u001b[0m \u001b[1m0s\u001b[0m 2ms/step\n",
            "\n",
            "🎬 Rekomendasi Film:\n",
            "                          title                genres  release_year  popularity  rating\n",
            "                     Sugar Baby  ['Romance', 'Drama']          2024     10.2960   7.200\n",
            "             Fly Me to the Moon ['Romance', 'Comedy']          2024     10.7169   6.837\n",
            "Confessions from a Holiday Camp ['Comedy', 'Romance']          1977      1.8051   5.278\n",
            "                 Joseph Andrews ['Romance', 'Comedy']          1977      1.7131   4.700\n"
          ]
        }
      ]
    }
  ]
}